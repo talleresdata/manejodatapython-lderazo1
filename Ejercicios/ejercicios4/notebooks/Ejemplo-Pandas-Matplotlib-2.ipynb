{
 "cells": [
  {
   "cell_type": "code",
   "execution_count": null,
   "metadata": {},
   "outputs": [],
   "source": []
  },
  {
   "cell_type": "code",
   "execution_count": 1,
   "metadata": {},
   "outputs": [],
   "source": [
    "import pandas as pd\n",
    "import numpy as np\n",
    "import matplotlib.pyplot as plt\n",
    "%matplotlib inline\n",
    "import scipy as sp\n",
    "\n"
   ]
  },
  {
   "cell_type": "code",
   "execution_count": 3,
   "metadata": {},
   "outputs": [
    {
     "name": "stderr",
     "output_type": "stream",
     "text": [
      "/home/reroes/entornos/envdataanalisis/local/lib/python2.7/site-packages/IPython/core/interactiveshell.py:2718: DtypeWarning: Columns (3,5,12,13,14,16,17,27,29,31,32,36,37) have mixed types. Specify dtype option on import or set low_memory=False.\n",
      "  interactivity=interactivity, compiler=compiler, result=result)\n"
     ]
    }
   ],
   "source": [
    "data = pd.read_csv(\"data/ENV_2017.csv\", encoding=\"latin-1\")\n"
   ]
  },
  {
   "cell_type": "code",
   "execution_count": 4,
   "metadata": {},
   "outputs": [
    {
     "data": {
      "text/html": [
       "<div>\n",
       "<style scoped>\n",
       "    .dataframe tbody tr th:only-of-type {\n",
       "        vertical-align: middle;\n",
       "    }\n",
       "\n",
       "    .dataframe tbody tr th {\n",
       "        vertical-align: top;\n",
       "    }\n",
       "\n",
       "    .dataframe thead th {\n",
       "        text-align: right;\n",
       "    }\n",
       "</style>\n",
       "<table border=\"1\" class=\"dataframe\">\n",
       "  <thead>\n",
       "    <tr style=\"text-align: right;\">\n",
       "      <th></th>\n",
       "      <th>prov_insc</th>\n",
       "      <th>cant_insc</th>\n",
       "      <th>parr_insc</th>\n",
       "      <th>anio_insc</th>\n",
       "      <th>mes_insc</th>\n",
       "      <th>dia_insc</th>\n",
       "      <th>fecha_insc</th>\n",
       "      <th>sexo</th>\n",
       "      <th>anio_nac</th>\n",
       "      <th>mes_nac</th>\n",
       "      <th>...</th>\n",
       "      <th>hij_nacm</th>\n",
       "      <th>etnia</th>\n",
       "      <th>est_civil</th>\n",
       "      <th>niv_inst</th>\n",
       "      <th>sabe_leer</th>\n",
       "      <th>prov_res</th>\n",
       "      <th>cant_res</th>\n",
       "      <th>parr_res</th>\n",
       "      <th>area_res</th>\n",
       "      <th>residente</th>\n",
       "    </tr>\n",
       "  </thead>\n",
       "  <tbody>\n",
       "    <tr>\n",
       "      <th>0</th>\n",
       "      <td>Santa Elena</td>\n",
       "      <td>Santa Elena</td>\n",
       "      <td>Santa Elena</td>\n",
       "      <td>2017</td>\n",
       "      <td>Sin información</td>\n",
       "      <td>Sin información</td>\n",
       "      <td>2017-99-99</td>\n",
       "      <td>Mujer</td>\n",
       "      <td>2017</td>\n",
       "      <td>Abril</td>\n",
       "      <td>...</td>\n",
       "      <td>Sin información</td>\n",
       "      <td>Sin información</td>\n",
       "      <td>Sin información</td>\n",
       "      <td>Sin información</td>\n",
       "      <td>Sin información</td>\n",
       "      <td>Santa Elena</td>\n",
       "      <td>Santa Elena</td>\n",
       "      <td>Santa Elena</td>\n",
       "      <td>Urbana</td>\n",
       "      <td>No residente</td>\n",
       "    </tr>\n",
       "    <tr>\n",
       "      <th>1</th>\n",
       "      <td>Santa Elena</td>\n",
       "      <td>Santa Elena</td>\n",
       "      <td>Santa Elena</td>\n",
       "      <td>2017</td>\n",
       "      <td>Sin información</td>\n",
       "      <td>Sin información</td>\n",
       "      <td>2017-99-99</td>\n",
       "      <td>Hombre</td>\n",
       "      <td>2017</td>\n",
       "      <td>Marzo</td>\n",
       "      <td>...</td>\n",
       "      <td>Sin información</td>\n",
       "      <td>Sin información</td>\n",
       "      <td>Sin información</td>\n",
       "      <td>Sin información</td>\n",
       "      <td>Sin información</td>\n",
       "      <td>Santa Elena</td>\n",
       "      <td>Santa Elena</td>\n",
       "      <td>Santa Elena</td>\n",
       "      <td>Urbana</td>\n",
       "      <td>Residente</td>\n",
       "    </tr>\n",
       "    <tr>\n",
       "      <th>2</th>\n",
       "      <td>Santa Elena</td>\n",
       "      <td>Santa Elena</td>\n",
       "      <td>Santa Elena</td>\n",
       "      <td>2017</td>\n",
       "      <td>Sin información</td>\n",
       "      <td>Sin información</td>\n",
       "      <td>2017-99-99</td>\n",
       "      <td>Hombre</td>\n",
       "      <td>2017</td>\n",
       "      <td>Junio</td>\n",
       "      <td>...</td>\n",
       "      <td>Sin información</td>\n",
       "      <td>Sin información</td>\n",
       "      <td>Sin información</td>\n",
       "      <td>Sin información</td>\n",
       "      <td>Sin información</td>\n",
       "      <td>Santa Elena</td>\n",
       "      <td>Salinas</td>\n",
       "      <td>Salinas</td>\n",
       "      <td>Urbana</td>\n",
       "      <td>No residente</td>\n",
       "    </tr>\n",
       "    <tr>\n",
       "      <th>3</th>\n",
       "      <td>Santa Elena</td>\n",
       "      <td>Santa Elena</td>\n",
       "      <td>Santa Elena</td>\n",
       "      <td>2017</td>\n",
       "      <td>Sin información</td>\n",
       "      <td>Sin información</td>\n",
       "      <td>2017-99-99</td>\n",
       "      <td>Hombre</td>\n",
       "      <td>2017</td>\n",
       "      <td>Septiembre</td>\n",
       "      <td>...</td>\n",
       "      <td>Sin información</td>\n",
       "      <td>Sin información</td>\n",
       "      <td>Sin información</td>\n",
       "      <td>Sin información</td>\n",
       "      <td>Sin información</td>\n",
       "      <td>Santa Elena</td>\n",
       "      <td>Santa Elena</td>\n",
       "      <td>Colonche</td>\n",
       "      <td>Rural</td>\n",
       "      <td>No residente</td>\n",
       "    </tr>\n",
       "    <tr>\n",
       "      <th>4</th>\n",
       "      <td>Santa Elena</td>\n",
       "      <td>Santa Elena</td>\n",
       "      <td>Santa Elena</td>\n",
       "      <td>2017</td>\n",
       "      <td>Sin información</td>\n",
       "      <td>Sin información</td>\n",
       "      <td>2017-99-99</td>\n",
       "      <td>Hombre</td>\n",
       "      <td>2017</td>\n",
       "      <td>Julio</td>\n",
       "      <td>...</td>\n",
       "      <td>Sin información</td>\n",
       "      <td>Sin información</td>\n",
       "      <td>Sin información</td>\n",
       "      <td>Sin información</td>\n",
       "      <td>Sin información</td>\n",
       "      <td>Santa Elena</td>\n",
       "      <td>Santa Elena</td>\n",
       "      <td>Santa Elena</td>\n",
       "      <td>Urbana</td>\n",
       "      <td>Residente</td>\n",
       "    </tr>\n",
       "  </tbody>\n",
       "</table>\n",
       "<p>5 rows × 47 columns</p>\n",
       "</div>"
      ],
      "text/plain": [
       "     prov_insc    cant_insc    parr_insc anio_insc         mes_insc  \\\n",
       "0  Santa Elena  Santa Elena  Santa Elena      2017  Sin información   \n",
       "1  Santa Elena  Santa Elena  Santa Elena      2017  Sin información   \n",
       "2  Santa Elena  Santa Elena  Santa Elena      2017  Sin información   \n",
       "3  Santa Elena  Santa Elena  Santa Elena      2017  Sin información   \n",
       "4  Santa Elena  Santa Elena  Santa Elena      2017  Sin información   \n",
       "\n",
       "          dia_insc  fecha_insc    sexo  anio_nac     mes_nac      ...       \\\n",
       "0  Sin información  2017-99-99   Mujer      2017       Abril      ...        \n",
       "1  Sin información  2017-99-99  Hombre      2017       Marzo      ...        \n",
       "2  Sin información  2017-99-99  Hombre      2017       Junio      ...        \n",
       "3  Sin información  2017-99-99  Hombre      2017  Septiembre      ...        \n",
       "4  Sin información  2017-99-99  Hombre      2017       Julio      ...        \n",
       "\n",
       "          hij_nacm            etnia        est_civil         niv_inst  \\\n",
       "0  Sin información  Sin información  Sin información  Sin información   \n",
       "1  Sin información  Sin información  Sin información  Sin información   \n",
       "2  Sin información  Sin información  Sin información  Sin información   \n",
       "3  Sin información  Sin información  Sin información  Sin información   \n",
       "4  Sin información  Sin información  Sin información  Sin información   \n",
       "\n",
       "         sabe_leer     prov_res     cant_res     parr_res area_res  \\\n",
       "0  Sin información  Santa Elena  Santa Elena  Santa Elena   Urbana   \n",
       "1  Sin información  Santa Elena  Santa Elena  Santa Elena   Urbana   \n",
       "2  Sin información  Santa Elena      Salinas      Salinas   Urbana   \n",
       "3  Sin información  Santa Elena  Santa Elena     Colonche    Rural   \n",
       "4  Sin información  Santa Elena  Santa Elena  Santa Elena   Urbana   \n",
       "\n",
       "      residente  \n",
       "0  No residente  \n",
       "1     Residente  \n",
       "2  No residente  \n",
       "3  No residente  \n",
       "4     Residente  \n",
       "\n",
       "[5 rows x 47 columns]"
      ]
     },
     "execution_count": 4,
     "metadata": {},
     "output_type": "execute_result"
    }
   ],
   "source": [
    "data.head()"
   ]
  },
  {
   "cell_type": "code",
   "execution_count": 5,
   "metadata": {},
   "outputs": [
    {
     "data": {
      "text/plain": [
       "Index([u'prov_insc', u'cant_insc', u'parr_insc', u'anio_insc', u'mes_insc',\n",
       "       u'dia_insc', u'fecha_insc', u'sexo', u'anio_nac', u'mes_nac',\n",
       "       u'dia_nac', u'fecha_nac', u'talla', u'peso', u'sem_gest', u'tipo_part',\n",
       "       u'apgar1', u'apgar5', u'p_emb', u'lugar_ocur', u'prov_nac', u'cant_nac',\n",
       "       u'parr_nac', u'area_nac', u'asis_por', u'nac_mad', u'cod_pais',\n",
       "       u'anio_mad', u'mes_mad', u'dia_mad', u'fecha_mad', u'edad_mad',\n",
       "       u'con_pren', u'num_emb', u'num_par', u'hij_viv', u'hij_vivm',\n",
       "       u'hij_nacm', u'etnia', u'est_civil', u'niv_inst', u'sabe_leer',\n",
       "       u'prov_res', u'cant_res', u'parr_res', u'area_res', u'residente'],\n",
       "      dtype='object')"
      ]
     },
     "execution_count": 5,
     "metadata": {},
     "output_type": "execute_result"
    }
   ],
   "source": [
    "data.keys()"
   ]
  },
  {
   "cell_type": "code",
   "execution_count": 4,
   "metadata": {},
   "outputs": [
    {
     "ename": "NameError",
     "evalue": "name 'plt' is not defined",
     "output_type": "error",
     "traceback": [
      "\u001b[0;31m---------------------------------------------------------------------------\u001b[0m",
      "\u001b[0;31mNameError\u001b[0m                                 Traceback (most recent call last)",
      "\u001b[0;32m<ipython-input-4-aa8fd9d95ccd>\u001b[0m in \u001b[0;36m<module>\u001b[0;34m\u001b[0m\n\u001b[1;32m      1\u001b[0m \u001b[0;31m#Ejemplo\u001b[0m\u001b[0;34m\u001b[0m\u001b[0;34m\u001b[0m\u001b[0;34m\u001b[0m\u001b[0m\n\u001b[0;32m----> 2\u001b[0;31m \u001b[0mplt\u001b[0m\u001b[0;34m.\u001b[0m\u001b[0mfigure\u001b[0m\u001b[0;34m(\u001b[0m\u001b[0;34m)\u001b[0m\u001b[0;34m\u001b[0m\u001b[0;34m\u001b[0m\u001b[0m\n\u001b[0m\u001b[1;32m      3\u001b[0m \u001b[0mplt\u001b[0m\u001b[0;34m.\u001b[0m\u001b[0msubplot2grid\u001b[0m\u001b[0;34m(\u001b[0m\u001b[0;34m(\u001b[0m\u001b[0;36m2\u001b[0m\u001b[0;34m,\u001b[0m\u001b[0;36m3\u001b[0m\u001b[0;34m)\u001b[0m\u001b[0;34m,\u001b[0m \u001b[0;34m(\u001b[0m\u001b[0;36m0\u001b[0m\u001b[0;34m,\u001b[0m\u001b[0;36m0\u001b[0m\u001b[0;34m)\u001b[0m\u001b[0;34m)\u001b[0m\u001b[0;34m\u001b[0m\u001b[0;34m\u001b[0m\u001b[0m\n\u001b[1;32m      4\u001b[0m \u001b[0mdata\u001b[0m\u001b[0;34m.\u001b[0m\u001b[0mprov_insc\u001b[0m\u001b[0;34m.\u001b[0m\u001b[0mvalue_counts\u001b[0m\u001b[0;34m(\u001b[0m\u001b[0;34m)\u001b[0m\u001b[0;34m.\u001b[0m\u001b[0mplot\u001b[0m\u001b[0;34m(\u001b[0m\u001b[0mkind\u001b[0m\u001b[0;34m=\u001b[0m\u001b[0;34m'bar'\u001b[0m\u001b[0;34m)\u001b[0m\u001b[0;34m\u001b[0m\u001b[0;34m\u001b[0m\u001b[0m\n\u001b[1;32m      5\u001b[0m \u001b[0mplt\u001b[0m\u001b[0;34m.\u001b[0m\u001b[0mtitle\u001b[0m\u001b[0;34m(\u001b[0m\u001b[0;34m'Inscripciones por provincia'\u001b[0m\u001b[0;34m)\u001b[0m\u001b[0;34m\u001b[0m\u001b[0;34m\u001b[0m\u001b[0m\n",
      "\u001b[0;31mNameError\u001b[0m: name 'plt' is not defined"
     ]
    }
   ],
   "source": [
    "#Ejemplo\n",
    "plt.figure()\n",
    "plt.subplot2grid((2,3), (0,0))\n",
    "data.prov_insc.value_counts().plot(kind='bar')\n",
    "plt.title('Inscripciones por provincia')\n",
    "\n",
    "plt.subplot2grid((2,3), (0,1))\n",
    "data.prov_insc.value_counts(normalize=True).plot(kind='bar')\n",
    "plt.title('Inscripciones por provincia %')\n",
    "\n",
    "plt.show()\n",
    "\n"
   ]
  },
  {
   "cell_type": "code",
   "execution_count": 6,
   "metadata": {},
   "outputs": [
    {
     "data": {
      "image/png": "[encoded data removed]",
      "text/plain": [
       "<matplotlib.figure.Figure at 0x7f95d44d3ad0>"
      ]
     },
     "metadata": {},
     "output_type": "display_data"
    }
   ],
   "source": [
    "plt.figure()\n",
    "plt.title(u\"Nacimientos de Loja\", fontsize = 30)\n",
    "data.sexo[data['prov_insc']=='Loja'].value_counts().plot(kind='bar')\n",
    "plt.show()\n"
   ]
  },
  {
   "cell_type": "code",
   "execution_count": 7,
   "metadata": {},
   "outputs": [
    {
     "data": {
      "image/png": "[encoded data removed]",
      "text/plain": [
       "<matplotlib.figure.Figure at 0x7f95d514b0d0>"
      ]
     },
     "metadata": {},
     "output_type": "display_data"
    }
   ],
   "source": [
    "plt.figure()\n",
    "plt.title(u\"Nacimientos de Loja\", fontsize = 30)\n",
    "data.sexo[data['prov_insc']=='Azuay'].value_counts().plot(kind='bar')\n",
    "plt.show()"
   ]
  },
  {
   "cell_type": "code",
   "execution_count": 14,
   "metadata": {},
   "outputs": [
    {
     "data": {
      "text/plain": [
       "0                            Santa Elena\n",
       "1                            Santa Elena\n",
       "2                            Santa Elena\n",
       "3                            Santa Elena\n",
       "4                            Santa Elena\n",
       "5                            Santa Elena\n",
       "6                            Santa Elena\n",
       "7                            Santa Elena\n",
       "8                            Santa Elena\n",
       "9                            Santa Elena\n",
       "10                           Santa Elena\n",
       "11                           Santa Elena\n",
       "12                           Santa Elena\n",
       "13                           Santa Elena\n",
       "14                           Santa Elena\n",
       "15                           Santa Elena\n",
       "16                           Santa Elena\n",
       "17                           Santa Elena\n",
       "18                           Santa Elena\n",
       "19                           Santa Elena\n",
       "20        Santo Domingo de los Tsáchilas\n",
       "21        Santo Domingo de los Tsáchilas\n",
       "22        Santo Domingo de los Tsáchilas\n",
       "23        Santo Domingo de los Tsáchilas\n",
       "24        Santo Domingo de los Tsáchilas\n",
       "25        Santo Domingo de los Tsáchilas\n",
       "26        Santo Domingo de los Tsáchilas\n",
       "27        Santo Domingo de los Tsáchilas\n",
       "28        Santo Domingo de los Tsáchilas\n",
       "29        Santo Domingo de los Tsáchilas\n",
       "                       ...              \n",
       "308222                             Azuay\n",
       "308223                             Azuay\n",
       "308224                             Azuay\n",
       "308225                             Azuay\n",
       "308226                             Azuay\n",
       "308227                             Azuay\n",
       "308228                             Azuay\n",
       "308229                             Azuay\n",
       "308230                             Azuay\n",
       "308231                             Azuay\n",
       "308232                             Azuay\n",
       "308233                             Azuay\n",
       "308234                             Azuay\n",
       "308235                             Azuay\n",
       "308236                             Azuay\n",
       "308237                             Azuay\n",
       "308238                             Azuay\n",
       "308239                             Azuay\n",
       "308240                             Azuay\n",
       "308241                             Azuay\n",
       "308242                             Azuay\n",
       "308243                             Azuay\n",
       "308244                             Azuay\n",
       "308245                             Azuay\n",
       "308246                             Azuay\n",
       "308247                             Azuay\n",
       "308248                             Azuay\n",
       "308249                             Azuay\n",
       "308250                             Azuay\n",
       "308251                             Azuay\n",
       "Name: prov_insc, Length: 308252, dtype: object"
      ]
     },
     "execution_count": 14,
     "metadata": {},
     "output_type": "execute_result"
    }
   ],
   "source": [
    "data.prov_insc"
   ]
  },
  {
   "cell_type": "code",
   "execution_count": 9,
   "metadata": {},
   "outputs": [],
   "source": [
    "lista = data.etnia.unique()\n",
    "lista\n",
    "data.mes_insc = data.mes_insc.astype(\"category\")"
   ]
  },
  {
   "cell_type": "code",
   "execution_count": 10,
   "metadata": {},
   "outputs": [
    {
     "name": "stdout",
     "output_type": "stream",
     "text": [
      "Sin información\n",
      "Mestiza\n",
      "Indígena\n",
      "Blanca\n",
      "Negra\n",
      "Otra\n",
      "Afroecuatoriana/Afrodescendiente\n",
      "Mulata\n",
      "Montubia\n"
     ]
    }
   ],
   "source": [
    "for l in lista:\n",
    "    print l"
   ]
  },
  {
   "cell_type": "code",
   "execution_count": 32,
   "metadata": {},
   "outputs": [
    {
     "name": "stdout",
     "output_type": "stream",
     "text": [
      "[ 0  4  5  8 26 10 13 27  7  2 15 29 20 22 14 30 17 12 11 16  1  3 28 18\n",
      "  6 21 25  9 24 31 19 23]\n",
      "[2017 2018 u'2017' u'2018' u' ']\n"
     ]
    }
   ],
   "source": [
    "def demo1(x):\n",
    "    v = 0\n",
    "    try:\n",
    "        v = int(x)\n",
    "    except:\n",
    "        v = 0\n",
    "    return v\n",
    "\n",
    "\n",
    "def demo2(x):\n",
    "    v = 0\n",
    "    try:\n",
    "        v = int(x)\n",
    "    except:\n",
    "        v = 2016\n",
    "    return v\n",
    "data['dia_insc'] = data['dia_insc'].apply(demo1)\n",
    "print data.dia_insc.unique()\n",
    "data['anio_nac'] = data['anio_nac'].apply(demo2)\n",
    "print data.anio_insc.unique()"
   ]
  },
  {
   "cell_type": "code",
   "execution_count": null,
   "metadata": {},
   "outputs": [],
   "source": []
  }
 ],
 "metadata": {
  "kernelspec": {
   "display_name": "Python 3",
   "language": "python",
   "name": "python3"
  },
  "language_info": {
   "codemirror_mode": {
    "name": "ipython",
    "version": 3
   },
   "file_extension": ".py",
   "mimetype": "text/x-python",
   "name": "python",
   "nbconvert_exporter": "python",
   "pygments_lexer": "ipython3",
   "version": "3.7.3"
  }
 },
 "nbformat": 4,
 "nbformat_minor": 1
}
